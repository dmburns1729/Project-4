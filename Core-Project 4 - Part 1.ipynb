{
 "cells": [
  {
   "cell_type": "markdown",
   "id": "c1b3931e",
   "metadata": {},
   "source": [
    "# (Core) Project 4 - Part 1"
   ]
  },
  {
   "cell_type": "markdown",
   "id": "0594b1f3",
   "metadata": {},
   "source": [
    "## INSTRUCTIONS\n",
    "For this assignment, you will be starting an additional portfolio project that you will continue to build on over the remaining weeks of this stack.\n",
    "\n",
    "For Part 1, you will be downloading and preparing a crime dataset for time series analysis.\n",
    "You will then answer provided stakeholder questions and support your answers with visualizations."
   ]
  },
  {
   "cell_type": "markdown",
   "id": "18163492",
   "metadata": {},
   "source": [
    "## Chicago Crime Data\n",
    "- Source: Chicago Data Portal: Crimes 2001 to Present https://data.cityofchicago.org/Public-Safety/Crimes-2001-to-Present/ijzp-q8t2\n",
    "    - Data Description:\n",
    "        - All Crimes that were reported in the city of Chicago and their details\n",
    "        - View Preview https://data.cityofchicago.org/Public-Safety/Crimes-2001-to-Present/ijzp-q8t2/data\n",
    "    - Includes:\n",
    "        - type of crime, exact date/time, lat/long,District/ward, was there an arrest, etc.\n",
    "    - Note: the .csv is very large and needs to be processed into smaller files to fit inside a GitHub repository. We have provided a helper notebook below to process your downloaded file into a repo-friendly format.\n",
    "- Data Processing Helper Notebook:\n",
    "    - Use the helper notebook in this repository to process your manually-downloaded csv into several .csv.gz files: https://github.com/coding-dojo-data-science/preparing-chicago-crime-data\n",
    "    - You can either Fork your own copy of the repository and rename it to be your \"Project 4\" repository, or you can download the notebook and save it in your own repository.\n",
    "- Supplemental Data: Holiday Data\n",
    "    - To answer some of the possible questions, you may need to perform some feature engineering, like adding holiday information from an API.\n",
    "    - We have provided an extract of holidays, but you may wish to extract additional holiday information for dates not included in this file.\n",
    "        - Share URL\n",
    "        - Raw CSV URL (Pandas): https://docs.google.com/spreadsheets/d/e/2PACX-1vTMR4vi1nFtbYO_WLqecU6WoRAQ0F-_QCMcuWUoZhuTygAP2U668cddCWBeAV2eop9fFdyXX856AB2j/pub?output=csv\n",
    "\n",
    "- Notes/Considerations:\n",
    "    - You may need to keep 2 forms of the data:\n",
    "        - The original individual crime data with a datetime index. (Each row is 1 crime)\n",
    "        - A resampled/converted crime counts version (Each row is 1 day)"
   ]
  },
  {
   "cell_type": "code",
   "execution_count": null,
   "id": "5059140a",
   "metadata": {},
   "outputs": [],
   "source": []
  }
 ],
 "metadata": {
  "kernelspec": {
   "display_name": "Python (dojo-env)",
   "language": "python",
   "name": "dojo-env"
  },
  "language_info": {
   "codemirror_mode": {
    "name": "ipython",
    "version": 3
   },
   "file_extension": ".py",
   "mimetype": "text/x-python",
   "name": "python",
   "nbconvert_exporter": "python",
   "pygments_lexer": "ipython3",
   "version": "3.9.15"
  },
  "toc": {
   "base_numbering": 1,
   "nav_menu": {},
   "number_sections": false,
   "sideBar": true,
   "skip_h1_title": false,
   "title_cell": "Table of Contents",
   "title_sidebar": "Contents",
   "toc_cell": false,
   "toc_position": {},
   "toc_section_display": true,
   "toc_window_display": false
  }
 },
 "nbformat": 4,
 "nbformat_minor": 5
}
